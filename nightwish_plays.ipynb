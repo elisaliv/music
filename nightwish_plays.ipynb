{
 "cells": [
  {
   "cell_type": "code",
   "execution_count": 5,
   "metadata": {},
   "outputs": [],
   "source": [
    "import pandas as pd\n",
    "import datetime as dt\n",
    "import time as tm\n",
    "import matplotlib.pyplot as plt"
   ]
  },
  {
   "cell_type": "code",
   "execution_count": 23,
   "metadata": {},
   "outputs": [
    {
     "data": {
      "text/html": [
       "<div>\n",
       "<style scoped>\n",
       "    .dataframe tbody tr th:only-of-type {\n",
       "        vertical-align: middle;\n",
       "    }\n",
       "\n",
       "    .dataframe tbody tr th {\n",
       "        vertical-align: top;\n",
       "    }\n",
       "\n",
       "    .dataframe thead th {\n",
       "        text-align: right;\n",
       "    }\n",
       "</style>\n",
       "<table border=\"1\" class=\"dataframe\">\n",
       "  <thead>\n",
       "    <tr style=\"text-align: right;\">\n",
       "      <th></th>\n",
       "      <th>Nightwish plays</th>\n",
       "      <th>Second-best</th>\n",
       "      <th>plays</th>\n",
       "    </tr>\n",
       "  </thead>\n",
       "  <tbody>\n",
       "    <tr>\n",
       "      <th>Last 7 days</th>\n",
       "      <td>137</td>\n",
       "      <td>Evanescence</td>\n",
       "      <td>28</td>\n",
       "    </tr>\n",
       "    <tr>\n",
       "      <th>Last 30 days</th>\n",
       "      <td>219</td>\n",
       "      <td>Taylor Swift</td>\n",
       "      <td>100</td>\n",
       "    </tr>\n",
       "    <tr>\n",
       "      <th>Last 90 days</th>\n",
       "      <td>469</td>\n",
       "      <td>Evanescence</td>\n",
       "      <td>200</td>\n",
       "    </tr>\n",
       "    <tr>\n",
       "      <th>Last 180 days</th>\n",
       "      <td>572</td>\n",
       "      <td>Infected Mushroom</td>\n",
       "      <td>406</td>\n",
       "    </tr>\n",
       "    <tr>\n",
       "      <th>Last 365 days</th>\n",
       "      <td>633</td>\n",
       "      <td>Masashi Hamauzu</td>\n",
       "      <td>452</td>\n",
       "    </tr>\n",
       "    <tr>\n",
       "      <th>All time</th>\n",
       "      <td>706</td>\n",
       "      <td>Queen</td>\n",
       "      <td>510</td>\n",
       "    </tr>\n",
       "  </tbody>\n",
       "</table>\n",
       "</div>"
      ],
      "text/plain": [
       "               Nightwish plays        Second-best  plays\n",
       "Last 7 days                137        Evanescence     28\n",
       "Last 30 days               219       Taylor Swift    100\n",
       "Last 90 days               469        Evanescence    200\n",
       "Last 180 days              572  Infected Mushroom    406\n",
       "Last 365 days              633    Masashi Hamauzu    452\n",
       "All time                   706              Queen    510"
      ]
     },
     "execution_count": 23,
     "metadata": {},
     "output_type": "execute_result"
    }
   ],
   "source": [
    "last_7 = pd.Series({'Nightwish plays': 137,\n",
    "                        'Second-best': 'Evanescence',\n",
    "                        'plays': 28})\n",
    "last_30 = pd.Series({'Nightwish plays': 219,\n",
    "                        'Second-best': 'Taylor Swift',\n",
    "                        'plays': 100})\n",
    "last_90 = pd.Series({'Nightwish plays': 469,\n",
    "                        'Second-best': 'Evanescence',\n",
    "                        'plays': 200})\n",
    "last_180 = pd.Series({'Nightwish plays': 572,\n",
    "                        'Second-best': 'Infected Mushroom',\n",
    "                        'plays': 406})\n",
    "last_365 = pd.Series({'Nightwish plays': 633,\n",
    "                        'Second-best': 'Masashi Hamauzu',\n",
    "                        'plays': 452})\n",
    "all_time = pd.Series({'Nightwish plays': 706,\n",
    "                        'Second-best': 'Queen',\n",
    "                        'plays': 510})\n",
    "\n",
    "df = pd.DataFrame([last_7, last_30, last_90, last_180, last_365, all_time],\n",
    "                  index = ['Last 7 days', 'Last 30 days', 'Last 90 days',\n",
    "                           'Last 180 days', 'Last 365 days', 'All time'])\n",
    "df"
   ]
  },
  {
   "cell_type": "code",
   "execution_count": 4,
   "metadata": {},
   "outputs": [],
   "source": [
    "today = dt.date(2020, 9, 8)\n",
    "start = dt.date(2013, 1, 9)"
   ]
  },
  {
   "cell_type": "code",
   "execution_count": 83,
   "metadata": {},
   "outputs": [
    {
     "data": {
      "text/html": [
       "<div>\n",
       "<style scoped>\n",
       "    .dataframe tbody tr th:only-of-type {\n",
       "        vertical-align: middle;\n",
       "    }\n",
       "\n",
       "    .dataframe tbody tr th {\n",
       "        vertical-align: top;\n",
       "    }\n",
       "\n",
       "    .dataframe thead th {\n",
       "        text-align: right;\n",
       "    }\n",
       "</style>\n",
       "<table border=\"1\" class=\"dataframe\">\n",
       "  <thead>\n",
       "    <tr style=\"text-align: right;\">\n",
       "      <th></th>\n",
       "    </tr>\n",
       "  </thead>\n",
       "  <tbody>\n",
       "    <tr>\n",
       "      <th>2020-09-01</th>\n",
       "    </tr>\n",
       "    <tr>\n",
       "      <th>2020-08-09</th>\n",
       "    </tr>\n",
       "    <tr>\n",
       "      <th>2020-06-10</th>\n",
       "    </tr>\n",
       "    <tr>\n",
       "      <th>2020-03-12</th>\n",
       "    </tr>\n",
       "    <tr>\n",
       "      <th>2019-09-09</th>\n",
       "    </tr>\n",
       "    <tr>\n",
       "      <th>2013-01-09</th>\n",
       "    </tr>\n",
       "  </tbody>\n",
       "</table>\n",
       "</div>"
      ],
      "text/plain": [
       "Empty DataFrame\n",
       "Columns: []\n",
       "Index: [2020-09-01, 2020-08-09, 2020-06-10, 2020-03-12, 2019-09-09, 2013-01-09]"
      ]
     },
     "execution_count": 83,
     "metadata": {},
     "output_type": "execute_result"
    }
   ],
   "source": [
    "df2 = pd.DataFrame(index = [today - dt.timedelta(days = 7),\n",
    "                            today - dt.timedelta(days = 30),\n",
    "                            today - dt.timedelta(days = 90),\n",
    "                            today - dt.timedelta(days = 180),\n",
    "                            today - dt.timedelta(days = 365),\n",
    "                            start])\n",
    "df2"
   ]
  },
  {
   "cell_type": "code",
   "execution_count": 84,
   "metadata": {},
   "outputs": [
    {
     "data": {
      "text/html": [
       "<div>\n",
       "<style scoped>\n",
       "    .dataframe tbody tr th:only-of-type {\n",
       "        vertical-align: middle;\n",
       "    }\n",
       "\n",
       "    .dataframe tbody tr th {\n",
       "        vertical-align: top;\n",
       "    }\n",
       "\n",
       "    .dataframe thead th {\n",
       "        text-align: right;\n",
       "    }\n",
       "</style>\n",
       "<table border=\"1\" class=\"dataframe\">\n",
       "  <thead>\n",
       "    <tr style=\"text-align: right;\">\n",
       "      <th></th>\n",
       "      <th>Total Nightwish plays</th>\n",
       "    </tr>\n",
       "  </thead>\n",
       "  <tbody>\n",
       "    <tr>\n",
       "      <th>2013-01-09</th>\n",
       "      <td>0</td>\n",
       "    </tr>\n",
       "    <tr>\n",
       "      <th>2019-09-09</th>\n",
       "      <td>73</td>\n",
       "    </tr>\n",
       "    <tr>\n",
       "      <th>2020-03-12</th>\n",
       "      <td>134</td>\n",
       "    </tr>\n",
       "    <tr>\n",
       "      <th>2020-06-10</th>\n",
       "      <td>237</td>\n",
       "    </tr>\n",
       "    <tr>\n",
       "      <th>2020-08-09</th>\n",
       "      <td>487</td>\n",
       "    </tr>\n",
       "    <tr>\n",
       "      <th>2020-09-01</th>\n",
       "      <td>569</td>\n",
       "    </tr>\n",
       "  </tbody>\n",
       "</table>\n",
       "</div>"
      ],
      "text/plain": [
       "            Total Nightwish plays\n",
       "2013-01-09                      0\n",
       "2019-09-09                     73\n",
       "2020-03-12                    134\n",
       "2020-06-10                    237\n",
       "2020-08-09                    487\n",
       "2020-09-01                    569"
      ]
     },
     "execution_count": 84,
     "metadata": {},
     "output_type": "execute_result"
    }
   ],
   "source": [
    "all_time_nw = df['Nightwish plays']['All time']\n",
    "df2['Total Nightwish plays'] = all_time_nw - df['Nightwish plays'].tolist()\n",
    "df2.append(pd.Series({'Total Nightwish plays': all_time_nw}, name=today))\n",
    "df2 = df2.sort_index()\n",
    "df2"
   ]
  },
  {
   "cell_type": "code",
   "execution_count": 89,
   "metadata": {},
   "outputs": [
    {
     "data": {
      "image/png": "[encoded data removed]",
      "text/plain": [
       "<Figure size 432x288 with 1 Axes>"
      ]
     },
     "metadata": {
      "needs_background": "light"
     },
     "output_type": "display_data"
    }
   ],
   "source": [
    "df2.plot(y='Total Nightwish plays', use_index=True)\n",
    "#df2.iloc[1:].reset_index().plot.scatter(x='index', y='Total Nightwish plays')\n",
    "plt.show()"
   ]
  }
 ],
 "metadata": {
  "kernelspec": {
   "display_name": "Python 3",
   "language": "python",
   "name": "python3"
  },
  "language_info": {
   "codemirror_mode": {
    "name": "ipython",
    "version": 3
   },
   "file_extension": ".py",
   "mimetype": "text/x-python",
   "name": "python",
   "nbconvert_exporter": "python",
   "pygments_lexer": "ipython3",
   "version": "3.7.4"
  }
 },
 "nbformat": 4,
 "nbformat_minor": 2
}
