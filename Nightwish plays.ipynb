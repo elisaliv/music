{
 "cells": [
  {
   "cell_type": "markdown",
   "metadata": {},
   "source": [
    "# Nightwish plays\n",
    "\n",
    "I've recently fallen in love all over again with one of my favourite bands from teenage years, Finnish symphonic metalheads Nightwish. It's not just that they compose beautiful music, they do some kind of science communication through it. But I'll keep the musical essay for another time and place. Let's talk about this (very simple) code!\n",
    "\n",
    "I got the feeling there was some kind of exponential trend in my listening to Nightwish. Was this feeling supported by data? I like to collect as much information as I can about what I'm listening to, for example using [Last.fm](https://www.last.fm/user/ainomiadue). And I like coding – and I'm currently learning the basics of Python and pandas. So I took this chance to practice, using some real-life data on something I love.\n",
    "\n",
    "Am I really listening that much to one single band? Follow me to find out."
   ]
  },
  {
   "cell_type": "code",
   "execution_count": 1,
   "metadata": {},
   "outputs": [],
   "source": [
    "import pandas as pd\n",
    "import datetime as dt\n",
    "import time as tm\n",
    "import matplotlib.pyplot as plt"
   ]
  },
  {
   "cell_type": "markdown",
   "metadata": {},
   "source": [
    "### Last.fm data\n",
    "\n",
    "As I just wanted to make a quick check with no big effort in data retrieval, I simply copied some numbers manually from Last.fm. Maybe someday soon I would like to do this in a [smarter](https://github.com/encukou/lastscrape-gui) way, that would allow for re-use of the code? [Maybe](https://github.com/juandes/spotify-audio-features-data-experiment) [also](https://github.com/VincyHu/MusicForYou) [using](https://github.com/kartikd1/Spotify) data from Spotify, which is my music player at the moment? We'll see.\n",
    "\n",
    "I wrote this code on 8/9/2020, and my Last.fm profile I took the data from was born on 9/1/2013. So these are the two dates in the code. Those pandas Series contain my number of plays as they are shown on Last.fm, so on the previous 7, 30, 90,... days before this code's frozen `today` = 8/9/2020. Then, I join the Series in one DataFrame, using strings with these time periods as indices.\n",
    "\n",
    "My main motivation for writing this code, actually, was seeing that Nightwish were my most-played artist over each one of these timespans. So I also added data about my second-best artist for each period. There seems to be an increasing gap between my Nightwish plays and other artists' plays. That's huge, considering that my listenings usually range over many different artists during one single day or one week. I have not yet used any further the second artists' data for the moment."
   ]
  },
  {
   "cell_type": "code",
   "execution_count": 28,
   "metadata": {},
   "outputs": [
    {
     "data": {
      "text/html": [
       "<div>\n",
       "<style scoped>\n",
       "    .dataframe tbody tr th:only-of-type {\n",
       "        vertical-align: middle;\n",
       "    }\n",
       "\n",
       "    .dataframe tbody tr th {\n",
       "        vertical-align: top;\n",
       "    }\n",
       "\n",
       "    .dataframe thead th {\n",
       "        text-align: right;\n",
       "    }\n",
       "</style>\n",
       "<table border=\"1\" class=\"dataframe\">\n",
       "  <thead>\n",
       "    <tr style=\"text-align: right;\">\n",
       "      <th></th>\n",
       "      <th>Nightwish plays</th>\n",
       "      <th>Second-best</th>\n",
       "      <th>plays</th>\n",
       "    </tr>\n",
       "  </thead>\n",
       "  <tbody>\n",
       "    <tr>\n",
       "      <th>Last 7 days</th>\n",
       "      <td>137</td>\n",
       "      <td>Evanescence</td>\n",
       "      <td>28</td>\n",
       "    </tr>\n",
       "    <tr>\n",
       "      <th>Last 30 days</th>\n",
       "      <td>219</td>\n",
       "      <td>Taylor Swift</td>\n",
       "      <td>100</td>\n",
       "    </tr>\n",
       "    <tr>\n",
       "      <th>Last 90 days</th>\n",
       "      <td>469</td>\n",
       "      <td>Evanescence</td>\n",
       "      <td>200</td>\n",
       "    </tr>\n",
       "    <tr>\n",
       "      <th>Last 180 days</th>\n",
       "      <td>572</td>\n",
       "      <td>Infected Mushroom</td>\n",
       "      <td>406</td>\n",
       "    </tr>\n",
       "    <tr>\n",
       "      <th>Last 365 days</th>\n",
       "      <td>633</td>\n",
       "      <td>Masashi Hamauzu</td>\n",
       "      <td>452</td>\n",
       "    </tr>\n",
       "    <tr>\n",
       "      <th>All time</th>\n",
       "      <td>706</td>\n",
       "      <td>Queen</td>\n",
       "      <td>510</td>\n",
       "    </tr>\n",
       "  </tbody>\n",
       "</table>\n",
       "</div>"
      ],
      "text/plain": [
       "               Nightwish plays        Second-best  plays\n",
       "Last 7 days                137        Evanescence     28\n",
       "Last 30 days               219       Taylor Swift    100\n",
       "Last 90 days               469        Evanescence    200\n",
       "Last 180 days              572  Infected Mushroom    406\n",
       "Last 365 days              633    Masashi Hamauzu    452\n",
       "All time                   706              Queen    510"
      ]
     },
     "execution_count": 28,
     "metadata": {},
     "output_type": "execute_result"
    }
   ],
   "source": [
    "today = dt.date(2020, 9, 8)\n",
    "start = dt.date(2013, 1, 9)\n",
    "\n",
    "last_7 = pd.Series({'Nightwish plays': 137,\n",
    "                        'Second-best': 'Evanescence',\n",
    "                        'plays': 28})\n",
    "last_30 = pd.Series({'Nightwish plays': 219,\n",
    "                        'Second-best': 'Taylor Swift',\n",
    "                        'plays': 100})\n",
    "last_90 = pd.Series({'Nightwish plays': 469,\n",
    "                        'Second-best': 'Evanescence',\n",
    "                        'plays': 200})\n",
    "last_180 = pd.Series({'Nightwish plays': 572,\n",
    "                        'Second-best': 'Infected Mushroom',\n",
    "                        'plays': 406})\n",
    "last_365 = pd.Series({'Nightwish plays': 633,\n",
    "                        'Second-best': 'Masashi Hamauzu',\n",
    "                        'plays': 452})\n",
    "all_time = pd.Series({'Nightwish plays': 706,\n",
    "                        'Second-best': 'Queen',\n",
    "                        'plays': 510})\n",
    "\n",
    "df = pd.DataFrame([last_7, last_30, last_90, last_180, last_365, all_time],\n",
    "                  index = ['Last 7 days', 'Last 30 days', 'Last 90 days',\n",
    "                           'Last 180 days', 'Last 365 days', 'All time'])\n",
    "df"
   ]
  },
  {
   "cell_type": "markdown",
   "metadata": {},
   "source": [
    "### Pre-processing data\n",
    "\n",
    "I had this idea of a plot showing my Nightwish plays vs. time, for which I was expecting an exponential growth. In order to have that, I need to do some easy calculations on the copy-pasted Last.fm data.\n",
    "\n",
    "First, let's convert the string indices to real `datetime` dates. You just need to subtract an appropriate `timedelta` from `today`. And of course, the date corresponding to \"All time\" is the starting date of my Last.fm profile.\n",
    "\n",
    "I have set all these as indices of a fresh new DataFrame."
   ]
  },
  {
   "cell_type": "code",
   "execution_count": 29,
   "metadata": {},
   "outputs": [
    {
     "data": {
      "text/html": [
       "<div>\n",
       "<style scoped>\n",
       "    .dataframe tbody tr th:only-of-type {\n",
       "        vertical-align: middle;\n",
       "    }\n",
       "\n",
       "    .dataframe tbody tr th {\n",
       "        vertical-align: top;\n",
       "    }\n",
       "\n",
       "    .dataframe thead th {\n",
       "        text-align: right;\n",
       "    }\n",
       "</style>\n",
       "<table border=\"1\" class=\"dataframe\">\n",
       "  <thead>\n",
       "    <tr style=\"text-align: right;\">\n",
       "      <th></th>\n",
       "    </tr>\n",
       "  </thead>\n",
       "  <tbody>\n",
       "    <tr>\n",
       "      <th>2020-09-01</th>\n",
       "    </tr>\n",
       "    <tr>\n",
       "      <th>2020-08-09</th>\n",
       "    </tr>\n",
       "    <tr>\n",
       "      <th>2020-06-10</th>\n",
       "    </tr>\n",
       "    <tr>\n",
       "      <th>2020-03-12</th>\n",
       "    </tr>\n",
       "    <tr>\n",
       "      <th>2019-09-09</th>\n",
       "    </tr>\n",
       "    <tr>\n",
       "      <th>2013-01-09</th>\n",
       "    </tr>\n",
       "  </tbody>\n",
       "</table>\n",
       "</div>"
      ],
      "text/plain": [
       "Empty DataFrame\n",
       "Columns: []\n",
       "Index: [2020-09-01, 2020-08-09, 2020-06-10, 2020-03-12, 2019-09-09, 2013-01-09]"
      ]
     },
     "execution_count": 29,
     "metadata": {},
     "output_type": "execute_result"
    }
   ],
   "source": [
    "df2 = pd.DataFrame(index = [today - dt.timedelta(days = 7),\n",
    "                            today - dt.timedelta(days = 30),\n",
    "                            today - dt.timedelta(days = 90),\n",
    "                            today - dt.timedelta(days = 180),\n",
    "                            today - dt.timedelta(days = 365),\n",
    "                            start])\n",
    "df2"
   ]
  },
  {
   "cell_type": "markdown",
   "metadata": {},
   "source": [
    "The number of plays also needs to be adjusted, of course. For example, on the row for the day corresponding to 7 days before `today` (1/9/2020) I don't want to see how many times I listened to them in the 7 days following that day – but instead, how many times I *had* listened to them up to 1/9/2020. This means that the variable I'm interested in is the *cumulative* number of plays.\n",
    "\n",
    "So at first I store the all-time number of plays in a new variable `all_time_nw`, and then I subtract from that total each row of the original DataFrame. To access its values easily, I convert it (or better said, its column I'm interested in called 'Nightwish plays') to a list.\n",
    "\n",
    "Finally, I add the cumulative number of plays up to `today`, that is exactly `all_time_nw`, without subtracting anything. \"Add\" means that I `append` a new row. And then, I sort the DataFrame by index, so that it's in chronological order."
   ]
  },
  {
   "cell_type": "code",
   "execution_count": 30,
   "metadata": {
    "scrolled": true
   },
   "outputs": [
    {
     "data": {
      "text/html": [
       "<div>\n",
       "<style scoped>\n",
       "    .dataframe tbody tr th:only-of-type {\n",
       "        vertical-align: middle;\n",
       "    }\n",
       "\n",
       "    .dataframe tbody tr th {\n",
       "        vertical-align: top;\n",
       "    }\n",
       "\n",
       "    .dataframe thead th {\n",
       "        text-align: right;\n",
       "    }\n",
       "</style>\n",
       "<table border=\"1\" class=\"dataframe\">\n",
       "  <thead>\n",
       "    <tr style=\"text-align: right;\">\n",
       "      <th></th>\n",
       "      <th>Total Nightwish plays</th>\n",
       "    </tr>\n",
       "  </thead>\n",
       "  <tbody>\n",
       "    <tr>\n",
       "      <th>2013-01-09</th>\n",
       "      <td>0</td>\n",
       "    </tr>\n",
       "    <tr>\n",
       "      <th>2019-09-09</th>\n",
       "      <td>73</td>\n",
       "    </tr>\n",
       "    <tr>\n",
       "      <th>2020-03-12</th>\n",
       "      <td>134</td>\n",
       "    </tr>\n",
       "    <tr>\n",
       "      <th>2020-06-10</th>\n",
       "      <td>237</td>\n",
       "    </tr>\n",
       "    <tr>\n",
       "      <th>2020-08-09</th>\n",
       "      <td>487</td>\n",
       "    </tr>\n",
       "    <tr>\n",
       "      <th>2020-09-01</th>\n",
       "      <td>569</td>\n",
       "    </tr>\n",
       "    <tr>\n",
       "      <th>2020-09-08</th>\n",
       "      <td>706</td>\n",
       "    </tr>\n",
       "  </tbody>\n",
       "</table>\n",
       "</div>"
      ],
      "text/plain": [
       "            Total Nightwish plays\n",
       "2013-01-09                      0\n",
       "2019-09-09                     73\n",
       "2020-03-12                    134\n",
       "2020-06-10                    237\n",
       "2020-08-09                    487\n",
       "2020-09-01                    569\n",
       "2020-09-08                    706"
      ]
     },
     "execution_count": 30,
     "metadata": {},
     "output_type": "execute_result"
    }
   ],
   "source": [
    "all_time_nw = df['Nightwish plays']['All time']\n",
    "df2['Total Nightwish plays'] = all_time_nw - df['Nightwish plays'].tolist()\n",
    "df2 = df2.append(pd.Series({'Total Nightwish plays': all_time_nw}, name=today))\n",
    "df2 = df2.sort_index()\n",
    "df2"
   ]
  },
  {
   "cell_type": "markdown",
   "metadata": {},
   "source": [
    "### Plot"
   ]
  },
  {
   "cell_type": "code",
   "execution_count": 26,
   "metadata": {
    "scrolled": true
   },
   "outputs": [
    {
     "data": {
      "image/png": "[encoded data removed]",
      "text/plain": [
       "<Figure size 432x288 with 1 Axes>"
      ]
     },
     "metadata": {
      "needs_background": "light"
     },
     "output_type": "display_data"
    }
   ],
   "source": [
    "df2.plot(y='Total Nightwish plays', use_index=True)\n",
    "#df2.iloc[1:].reset_index().plot.scatter(x='index', y='Total Nightwish plays')\n",
    "plt.show()"
   ]
  },
  {
   "cell_type": "markdown",
   "metadata": {},
   "source": [
    "There it is! This is just the exponential trend I had predicted.\n",
    "\n",
    "That zero in 2013 is there because I used my current Last.fm profile only. I had two former profiles, covering my teenage years when I was also listening a lot to Nightwish. I should definitely add those data to this analysis.\n",
    "\n",
    "Am I listening more to Nightwish now than then? How will this trend go on? Will I #flattenthecurve sooner or later? Will I be able to go to their concert, or will concerts never ever be a thing again? Stay tuned to find out. Maybe.\n",
    "\n",
    "But most importantly: enjoy some good [Music](https://youtu.be/rwz7-h9LCDU)!"
   ]
  }
 ],
 "metadata": {
  "kernelspec": {
   "display_name": "Python 3",
   "language": "python",
   "name": "python3"
  },
  "language_info": {
   "codemirror_mode": {
    "name": "ipython",
    "version": 3
   },
   "file_extension": ".py",
   "mimetype": "text/x-python",
   "name": "python",
   "nbconvert_exporter": "python",
   "pygments_lexer": "ipython3",
   "version": "3.7.4"
  }
 },
 "nbformat": 4,
 "nbformat_minor": 2
}
